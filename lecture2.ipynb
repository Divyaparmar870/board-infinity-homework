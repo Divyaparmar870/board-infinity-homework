{
  "nbformat": 4,
  "nbformat_minor": 0,
  "metadata": {
    "colab": {
      "name": "lecture2.ipynb",
      "provenance": [],
      "collapsed_sections": [],
      "authorship_tag": "ABX9TyML8jmaLkpHgLZylti0PlDx",
      "include_colab_link": true
    },
    "kernelspec": {
      "name": "python3",
      "display_name": "Python 3"
    }
  },
  "cells": [
    {
      "cell_type": "markdown",
      "metadata": {
        "id": "view-in-github",
        "colab_type": "text"
      },
      "source": [
        "<a href=\"https://colab.research.google.com/github/Divyaparmar870/board-infinity-homework/blob/master/lecture2.ipynb\" target=\"_parent\"><img src=\"https://colab.research.google.com/assets/colab-badge.svg\" alt=\"Open In Colab\"/></a>"
      ]
    },
    {
      "cell_type": "code",
      "metadata": {
        "id": "PvMIpzeu0L23",
        "colab_type": "code",
        "colab": {}
      },
      "source": [
        ""
      ],
      "execution_count": 0,
      "outputs": []
    },
    {
      "cell_type": "markdown",
      "metadata": {
        "id": "Ceub-QxQ1_0Q",
        "colab_type": "text"
      },
      "source": [
        "#if and else statement "
      ]
    },
    {
      "cell_type": "code",
      "metadata": {
        "id": "rgRPXBDD1G3D",
        "colab_type": "code",
        "colab": {
          "base_uri": "https://localhost:8080/",
          "height": 34
        },
        "outputId": "21ab3db9-8259-4644-8572-005e80d8017d"
      },
      "source": [
        "age=80\n",
        "if age >60:\n",
        "   print('seniorcitizen')\n",
        "else:\n",
        "   print('adult')"
      ],
      "execution_count": 2,
      "outputs": [
        {
          "output_type": "stream",
          "text": [
            "seniorcitizen\n"
          ],
          "name": "stdout"
        }
      ]
    },
    {
      "cell_type": "markdown",
      "metadata": {
        "id": "yvQQbYNq3Aap",
        "colab_type": "text"
      },
      "source": [
        "# if and else with input by user"
      ]
    },
    {
      "cell_type": "code",
      "metadata": {
        "id": "CnSP5Muv1WQN",
        "colab_type": "code",
        "colab": {
          "base_uri": "https://localhost:8080/",
          "height": 50
        },
        "outputId": "cbcaff81-7db3-4386-bc60-da2ccbbfba38"
      },
      "source": [
        "age=int(input('enter your age '))\n",
        "if age>18:\n",
        "  print('you can ride ')\n",
        "else:\n",
        "   print('you cannot drive')"
      ],
      "execution_count": 4,
      "outputs": [
        {
          "output_type": "stream",
          "text": [
            "enter your age 20\n",
            "you can ride \n"
          ],
          "name": "stdout"
        }
      ]
    },
    {
      "cell_type": "markdown",
      "metadata": {
        "id": "beYs45NR7Ub8",
        "colab_type": "text"
      },
      "source": [
        "# nested if statement "
      ]
    },
    {
      "cell_type": "code",
      "metadata": {
        "id": "rIGuuLhR9AM7",
        "colab_type": "code",
        "colab": {
          "base_uri": "https://localhost:8080/",
          "height": 101
        },
        "outputId": "48c7000e-4c4e-4295-fe55-4c1caa58077f"
      },
      "source": [
        "#define variables as input for income\n",
        "print('please enter your monthly income')\n",
        "income=int(input())\n",
        "\n",
        "#define the variables for active loan \n",
        "print('do you have any active loan')\n",
        "active_loan=str(input())\n",
        "\n",
        "#start the IF statement \n",
        "if income > 50000:\n",
        "  if active_loan =='yes':\n",
        "    print('sorry,you are not eligible for loan')\n",
        "  else:\n",
        "    print('congrats,you are eligible')\n",
        "else:\n",
        "  print('sorry,you are not allowed for loan')"
      ],
      "execution_count": 14,
      "outputs": [
        {
          "output_type": "stream",
          "text": [
            "please enter your monthly income\n",
            "60000\n",
            "do you have any active loan\n",
            "no\n",
            "congrats,you are eligible\n"
          ],
          "name": "stdout"
        }
      ]
    },
    {
      "cell_type": "markdown",
      "metadata": {
        "id": "WKNg0w0TTL29",
        "colab_type": "text"
      },
      "source": [
        "# for loop "
      ]
    },
    {
      "cell_type": "code",
      "metadata": {
        "id": "BSwLG1sH-guN",
        "colab_type": "code",
        "colab": {
          "base_uri": "https://localhost:8080/",
          "height": 168
        },
        "outputId": "54653e2d-573a-4613-be7b-4ad9f441be4f"
      },
      "source": [
        "#looping is a continous process\n",
        " numbers=1,22,33,44,55,66,77,88,99\n",
        " #print the numbers from the list \n",
        " for x in numbers:\n",
        "   print(x)"
      ],
      "execution_count": 16,
      "outputs": [
        {
          "output_type": "stream",
          "text": [
            "1\n",
            "22\n",
            "33\n",
            "44\n",
            "55\n",
            "66\n",
            "77\n",
            "88\n",
            "99\n"
          ],
          "name": "stdout"
        }
      ]
    },
    {
      "cell_type": "code",
      "metadata": {
        "id": "Sx2BbOOBTCsC",
        "colab_type": "code",
        "colab": {
          "base_uri": "https://localhost:8080/",
          "height": 101
        },
        "outputId": "55cb84f2-5062-42a6-c132-e9afebc785b9"
      },
      "source": [
        "#conditional looping \n",
        "#print odd numbers fron the list of numbers\n",
        "numbers= [11,22,33,44,55,66,77,88,99,00]\n",
        "\n",
        "for numb in numbers:\n",
        "  if numb%2 != 0:\n",
        "    print(numb)"
      ],
      "execution_count": 22,
      "outputs": [
        {
          "output_type": "stream",
          "text": [
            "11\n",
            "33\n",
            "55\n",
            "77\n",
            "99\n"
          ],
          "name": "stdout"
        }
      ]
    },
    {
      "cell_type": "markdown",
      "metadata": {
        "id": "gUEMTVgnaarW",
        "colab_type": "text"
      },
      "source": [
        "# class inheritance"
      ]
    },
    {
      "cell_type": "code",
      "metadata": {
        "id": "31MktypZWa0i",
        "colab_type": "code",
        "colab": {
          "base_uri": "https://localhost:8080/",
          "height": 34
        },
        "outputId": "463598eb-977c-4434-daf7-cd9843c5b4a4"
      },
      "source": [
        "#retrieve the wine datasets from sci kit learn\n",
        " from sklearn import datasets\n",
        " datasets.load_wine().keys()"
      ],
      "execution_count": 27,
      "outputs": [
        {
          "output_type": "execute_result",
          "data": {
            "text/plain": [
              "dict_keys(['data', 'target', 'target_names', 'DESCR', 'feature_names'])"
            ]
          },
          "metadata": {
            "tags": []
          },
          "execution_count": 27
        }
      ]
    },
    {
      "cell_type": "code",
      "metadata": {
        "id": "s9uM5SCga5nt",
        "colab_type": "code",
        "colab": {
          "base_uri": "https://localhost:8080/",
          "height": 658
        },
        "outputId": "cf22e4d0-32b0-4b5f-f2f9-1f0d57e5832b"
      },
      "source": [
        "datasets.load_wine()"
      ],
      "execution_count": 25,
      "outputs": [
        {
          "output_type": "execute_result",
          "data": {
            "text/plain": [
              "{'DESCR': '.. _wine_dataset:\\n\\nWine recognition dataset\\n------------------------\\n\\n**Data Set Characteristics:**\\n\\n    :Number of Instances: 178 (50 in each of three classes)\\n    :Number of Attributes: 13 numeric, predictive attributes and the class\\n    :Attribute Information:\\n \\t\\t- Alcohol\\n \\t\\t- Malic acid\\n \\t\\t- Ash\\n\\t\\t- Alcalinity of ash  \\n \\t\\t- Magnesium\\n\\t\\t- Total phenols\\n \\t\\t- Flavanoids\\n \\t\\t- Nonflavanoid phenols\\n \\t\\t- Proanthocyanins\\n\\t\\t- Color intensity\\n \\t\\t- Hue\\n \\t\\t- OD280/OD315 of diluted wines\\n \\t\\t- Proline\\n\\n    - class:\\n            - class_0\\n            - class_1\\n            - class_2\\n\\t\\t\\n    :Summary Statistics:\\n    \\n    ============================= ==== ===== ======= =====\\n                                   Min   Max   Mean     SD\\n    ============================= ==== ===== ======= =====\\n    Alcohol:                      11.0  14.8    13.0   0.8\\n    Malic Acid:                   0.74  5.80    2.34  1.12\\n    Ash:                          1.36  3.23    2.36  0.27\\n    Alcalinity of Ash:            10.6  30.0    19.5   3.3\\n    Magnesium:                    70.0 162.0    99.7  14.3\\n    Total Phenols:                0.98  3.88    2.29  0.63\\n    Flavanoids:                   0.34  5.08    2.03  1.00\\n    Nonflavanoid Phenols:         0.13  0.66    0.36  0.12\\n    Proanthocyanins:              0.41  3.58    1.59  0.57\\n    Colour Intensity:              1.3  13.0     5.1   2.3\\n    Hue:                          0.48  1.71    0.96  0.23\\n    OD280/OD315 of diluted wines: 1.27  4.00    2.61  0.71\\n    Proline:                       278  1680     746   315\\n    ============================= ==== ===== ======= =====\\n\\n    :Missing Attribute Values: None\\n    :Class Distribution: class_0 (59), class_1 (71), class_2 (48)\\n    :Creator: R.A. Fisher\\n    :Donor: Michael Marshall (MARSHALL%PLU@io.arc.nasa.gov)\\n    :Date: July, 1988\\n\\nThis is a copy of UCI ML Wine recognition datasets.\\nhttps://archive.ics.uci.edu/ml/machine-learning-databases/wine/wine.data\\n\\nThe data is the results of a chemical analysis of wines grown in the same\\nregion in Italy by three different cultivators. There are thirteen different\\nmeasurements taken for different constituents found in the three types of\\nwine.\\n\\nOriginal Owners: \\n\\nForina, M. et al, PARVUS - \\nAn Extendible Package for Data Exploration, Classification and Correlation. \\nInstitute of Pharmaceutical and Food Analysis and Technologies,\\nVia Brigata Salerno, 16147 Genoa, Italy.\\n\\nCitation:\\n\\nLichman, M. (2013). UCI Machine Learning Repository\\n[https://archive.ics.uci.edu/ml]. Irvine, CA: University of California,\\nSchool of Information and Computer Science. \\n\\n.. topic:: References\\n\\n  (1) S. Aeberhard, D. Coomans and O. de Vel, \\n  Comparison of Classifiers in High Dimensional Settings, \\n  Tech. Rep. no. 92-02, (1992), Dept. of Computer Science and Dept. of  \\n  Mathematics and Statistics, James Cook University of North Queensland. \\n  (Also submitted to Technometrics). \\n\\n  The data was used with many others for comparing various \\n  classifiers. The classes are separable, though only RDA \\n  has achieved 100% correct classification. \\n  (RDA : 100%, QDA 99.4%, LDA 98.9%, 1NN 96.1% (z-transformed data)) \\n  (All results using the leave-one-out technique) \\n\\n  (2) S. Aeberhard, D. Coomans and O. de Vel, \\n  \"THE CLASSIFICATION PERFORMANCE OF RDA\" \\n  Tech. Rep. no. 92-01, (1992), Dept. of Computer Science and Dept. of \\n  Mathematics and Statistics, James Cook University of North Queensland. \\n  (Also submitted to Journal of Chemometrics).\\n',\n",
              " 'data': array([[1.423e+01, 1.710e+00, 2.430e+00, ..., 1.040e+00, 3.920e+00,\n",
              "         1.065e+03],\n",
              "        [1.320e+01, 1.780e+00, 2.140e+00, ..., 1.050e+00, 3.400e+00,\n",
              "         1.050e+03],\n",
              "        [1.316e+01, 2.360e+00, 2.670e+00, ..., 1.030e+00, 3.170e+00,\n",
              "         1.185e+03],\n",
              "        ...,\n",
              "        [1.327e+01, 4.280e+00, 2.260e+00, ..., 5.900e-01, 1.560e+00,\n",
              "         8.350e+02],\n",
              "        [1.317e+01, 2.590e+00, 2.370e+00, ..., 6.000e-01, 1.620e+00,\n",
              "         8.400e+02],\n",
              "        [1.413e+01, 4.100e+00, 2.740e+00, ..., 6.100e-01, 1.600e+00,\n",
              "         5.600e+02]]),\n",
              " 'feature_names': ['alcohol',\n",
              "  'malic_acid',\n",
              "  'ash',\n",
              "  'alcalinity_of_ash',\n",
              "  'magnesium',\n",
              "  'total_phenols',\n",
              "  'flavanoids',\n",
              "  'nonflavanoid_phenols',\n",
              "  'proanthocyanins',\n",
              "  'color_intensity',\n",
              "  'hue',\n",
              "  'od280/od315_of_diluted_wines',\n",
              "  'proline'],\n",
              " 'target': array([0, 0, 0, 0, 0, 0, 0, 0, 0, 0, 0, 0, 0, 0, 0, 0, 0, 0, 0, 0, 0, 0,\n",
              "        0, 0, 0, 0, 0, 0, 0, 0, 0, 0, 0, 0, 0, 0, 0, 0, 0, 0, 0, 0, 0, 0,\n",
              "        0, 0, 0, 0, 0, 0, 0, 0, 0, 0, 0, 0, 0, 0, 0, 1, 1, 1, 1, 1, 1, 1,\n",
              "        1, 1, 1, 1, 1, 1, 1, 1, 1, 1, 1, 1, 1, 1, 1, 1, 1, 1, 1, 1, 1, 1,\n",
              "        1, 1, 1, 1, 1, 1, 1, 1, 1, 1, 1, 1, 1, 1, 1, 1, 1, 1, 1, 1, 1, 1,\n",
              "        1, 1, 1, 1, 1, 1, 1, 1, 1, 1, 1, 1, 1, 1, 1, 1, 1, 1, 1, 1, 2, 2,\n",
              "        2, 2, 2, 2, 2, 2, 2, 2, 2, 2, 2, 2, 2, 2, 2, 2, 2, 2, 2, 2, 2, 2,\n",
              "        2, 2, 2, 2, 2, 2, 2, 2, 2, 2, 2, 2, 2, 2, 2, 2, 2, 2, 2, 2, 2, 2,\n",
              "        2, 2]),\n",
              " 'target_names': array(['class_0', 'class_1', 'class_2'], dtype='<U7')}"
            ]
          },
          "metadata": {
            "tags": []
          },
          "execution_count": 25
        }
      ]
    },
    {
      "cell_type": "markdown",
      "metadata": {
        "id": "tZJFLKfiiN_P",
        "colab_type": "text"
      },
      "source": [
        "# to print values from dictionary "
      ]
    },
    {
      "cell_type": "code",
      "metadata": {
        "id": "ClrdWgBScbH0",
        "colab_type": "code",
        "colab": {
          "base_uri": "https://localhost:8080/",
          "height": 34
        },
        "outputId": "2197236e-4560-4876-d01e-263cbbe2d18f"
      },
      "source": [
        "#functions\n",
        "student1 = {'name':'divi','age':23,'gender':\"female\"}\n",
        "student2 = {'name':'sumit','age':19,'gender':\"male\"}\n",
        "student3 = {'name':'troy',\"age\":20,\"gender\":\"female\"}\n",
        "\n",
        "def print_values(my_dictionary):\n",
        "\n",
        "  return my_dictionary.values()\n",
        "print(print_values(student1))\n",
        "  \n",
        " "
      ],
      "execution_count": 37,
      "outputs": [
        {
          "output_type": "stream",
          "text": [
            "dict_values(['divi', 23, 'female'])\n"
          ],
          "name": "stdout"
        }
      ]
    },
    {
      "cell_type": "code",
      "metadata": {
        "id": "3eSc5XJElLaq",
        "colab_type": "code",
        "colab": {}
      },
      "source": [
        "#to create a list by using fuction that has for loop \n",
        "list1 = [1,2,3,4,5,6,7,8,9,0,]\n",
        "def even(even_nos):\n",
        "  for numb in list1:\n",
        "   if numb%2==0:\n",
        "    print(numb,end=\"   \")"
      ],
      "execution_count": 0,
      "outputs": []
    },
    {
      "cell_type": "code",
      "metadata": {
        "id": "tD4OmRKqo0DG",
        "colab_type": "code",
        "colab": {
          "base_uri": "https://localhost:8080/",
          "height": 34
        },
        "outputId": "8bb55d76-ef85-4f6f-b14e-a6a9331e316b"
      },
      "source": [
        "even(list1)"
      ],
      "execution_count": 62,
      "outputs": [
        {
          "output_type": "stream",
          "text": [
            "2  4  6  8  0  "
          ],
          "name": "stdout"
        }
      ]
    },
    {
      "cell_type": "markdown",
      "metadata": {
        "id": "9JlBKiQfy1s5",
        "colab_type": "text"
      },
      "source": [
        "# type conversion "
      ]
    },
    {
      "cell_type": "code",
      "metadata": {
        "id": "ZoxqsCYGy75_",
        "colab_type": "code",
        "colab": {}
      },
      "source": [
        "#define 4 variables of type as integer to float and boolean and to convert \n",
        "#integer into float,string to integer,integer to string,boolean to string \n",
        "#then print the variable\n",
        "\n",
        "#float to int \n",
        "percentage=56.9\n",
        "percentage=int(percentage)"
      ],
      "execution_count": 0,
      "outputs": []
    },
    {
      "cell_type": "code",
      "metadata": {
        "id": "D8VUOc2F0Ckk",
        "colab_type": "code",
        "colab": {
          "base_uri": "https://localhost:8080/",
          "height": 34
        },
        "outputId": "3a4f154b-99ec-4eec-9997-f0580ea5d773"
      },
      "source": [
        "type(percentage) "
      ],
      "execution_count": 64,
      "outputs": [
        {
          "output_type": "execute_result",
          "data": {
            "text/plain": [
              "int"
            ]
          },
          "metadata": {
            "tags": []
          },
          "execution_count": 64
        }
      ]
    },
    {
      "cell_type": "code",
      "metadata": {
        "id": "Fgp7JENG0D1-",
        "colab_type": "code",
        "colab": {
          "base_uri": "https://localhost:8080/",
          "height": 34
        },
        "outputId": "9ad5c12a-b5b4-40c5-ffef-47bf9b2b7d1a"
      },
      "source": [
        "#integer to float \n",
        "list1=123\n",
        "type(list1)\n"
      ],
      "execution_count": 88,
      "outputs": [
        {
          "output_type": "execute_result",
          "data": {
            "text/plain": [
              "int"
            ]
          },
          "metadata": {
            "tags": []
          },
          "execution_count": 88
        }
      ]
    },
    {
      "cell_type": "code",
      "metadata": {
        "id": "UF3LpCn-8E33",
        "colab_type": "code",
        "colab": {}
      },
      "source": [
        "list1=float(list1)"
      ],
      "execution_count": 0,
      "outputs": []
    },
    {
      "cell_type": "code",
      "metadata": {
        "id": "876KQLJ68MCu",
        "colab_type": "code",
        "colab": {
          "base_uri": "https://localhost:8080/",
          "height": 34
        },
        "outputId": "293b49be-d5d2-4908-969c-a1edde370a62"
      },
      "source": [
        "type(list1)"
      ],
      "execution_count": 90,
      "outputs": [
        {
          "output_type": "execute_result",
          "data": {
            "text/plain": [
              "float"
            ]
          },
          "metadata": {
            "tags": []
          },
          "execution_count": 90
        }
      ]
    },
    {
      "cell_type": "code",
      "metadata": {
        "id": "SWFwUTwf2PZa",
        "colab_type": "code",
        "colab": {
          "base_uri": "https://localhost:8080/",
          "height": 34
        },
        "outputId": "8e37e028-dd5a-440d-e3a0-810c61f4ac09"
      },
      "source": [
        "#string to integer\n",
        "name='123'\n",
        "type(name)"
      ],
      "execution_count": 79,
      "outputs": [
        {
          "output_type": "execute_result",
          "data": {
            "text/plain": [
              "str"
            ]
          },
          "metadata": {
            "tags": []
          },
          "execution_count": 79
        }
      ]
    },
    {
      "cell_type": "code",
      "metadata": {
        "id": "BexSmmDn48uK",
        "colab_type": "code",
        "colab": {}
      },
      "source": [
        "name=int(name)"
      ],
      "execution_count": 0,
      "outputs": []
    },
    {
      "cell_type": "code",
      "metadata": {
        "id": "oMLDaZmp5YFW",
        "colab_type": "code",
        "colab": {
          "base_uri": "https://localhost:8080/",
          "height": 34
        },
        "outputId": "5929c308-dcb3-497c-ea71-d4beaa5c7d41"
      },
      "source": [
        "type(name)"
      ],
      "execution_count": 81,
      "outputs": [
        {
          "output_type": "execute_result",
          "data": {
            "text/plain": [
              "int"
            ]
          },
          "metadata": {
            "tags": []
          },
          "execution_count": 81
        }
      ]
    },
    {
      "cell_type": "code",
      "metadata": {
        "id": "-tKyYWak20Mm",
        "colab_type": "code",
        "colab": {
          "base_uri": "https://localhost:8080/",
          "height": 34
        },
        "outputId": "c26fb0d2-875d-4c02-bda6-d1ec0cedf8bd"
      },
      "source": [
        "#integer to string \n",
        "number=123\n",
        "type(number)"
      ],
      "execution_count": 82,
      "outputs": [
        {
          "output_type": "execute_result",
          "data": {
            "text/plain": [
              "int"
            ]
          },
          "metadata": {
            "tags": []
          },
          "execution_count": 82
        }
      ]
    },
    {
      "cell_type": "code",
      "metadata": {
        "id": "O2q46tUO5gas",
        "colab_type": "code",
        "colab": {}
      },
      "source": [
        "number=str(number)"
      ],
      "execution_count": 0,
      "outputs": []
    },
    {
      "cell_type": "code",
      "metadata": {
        "id": "Mw9_AtzU5ksI",
        "colab_type": "code",
        "colab": {
          "base_uri": "https://localhost:8080/",
          "height": 34
        },
        "outputId": "e6104d67-7b92-4e0f-d504-33f9fc1c6369"
      },
      "source": [
        "type(number)"
      ],
      "execution_count": 85,
      "outputs": [
        {
          "output_type": "execute_result",
          "data": {
            "text/plain": [
              "str"
            ]
          },
          "metadata": {
            "tags": []
          },
          "execution_count": 85
        }
      ]
    },
    {
      "cell_type": "code",
      "metadata": {
        "id": "eQ5jChIH32kr",
        "colab_type": "code",
        "colab": {}
      },
      "source": [
        "#boolean to string\n",
        "female=True"
      ],
      "execution_count": 0,
      "outputs": []
    },
    {
      "cell_type": "code",
      "metadata": {
        "id": "sgz6r8A94JXo",
        "colab_type": "code",
        "colab": {
          "base_uri": "https://localhost:8080/",
          "height": 34
        },
        "outputId": "a0040b2d-d2fc-4ee7-bd3a-739a8b5365c4"
      },
      "source": [
        "type(female)"
      ],
      "execution_count": 74,
      "outputs": [
        {
          "output_type": "execute_result",
          "data": {
            "text/plain": [
              "bool"
            ]
          },
          "metadata": {
            "tags": []
          },
          "execution_count": 74
        }
      ]
    },
    {
      "cell_type": "code",
      "metadata": {
        "id": "2HDWVEfY4bg3",
        "colab_type": "code",
        "colab": {}
      },
      "source": [
        "female=str(female)"
      ],
      "execution_count": 0,
      "outputs": []
    },
    {
      "cell_type": "code",
      "metadata": {
        "id": "AwUdy_zz4iOp",
        "colab_type": "code",
        "colab": {
          "base_uri": "https://localhost:8080/",
          "height": 34
        },
        "outputId": "d3c66571-2767-4063-8f00-9c8f3c951c10"
      },
      "source": [
        "type(female)"
      ],
      "execution_count": 76,
      "outputs": [
        {
          "output_type": "execute_result",
          "data": {
            "text/plain": [
              "str"
            ]
          },
          "metadata": {
            "tags": []
          },
          "execution_count": 76
        }
      ]
    },
    {
      "cell_type": "markdown",
      "metadata": {
        "id": "AHDlr_BkE09P",
        "colab_type": "text"
      },
      "source": [
        "# importing libraries for consumption "
      ]
    },
    {
      "cell_type": "code",
      "metadata": {
        "id": "fQs3GDs_4kWU",
        "colab_type": "code",
        "colab": {
          "base_uri": "https://localhost:8080/",
          "height": 1000
        },
        "outputId": "e33b05d4-6025-4e59-a397-147360dfe5e9"
      },
      "source": [
        "#import the conditional probability model(gaussian naive bayes)\n",
        "#sklearn.naive_bayes.GaussianNB\n",
        "from sklearn.naive_bayes import GaussianNB\n",
        "help(GaussianNB)"
      ],
      "execution_count": 91,
      "outputs": [
        {
          "output_type": "stream",
          "text": [
            "Help on class GaussianNB in module sklearn.naive_bayes:\n",
            "\n",
            "class GaussianNB(_BaseNB)\n",
            " |  Gaussian Naive Bayes (GaussianNB)\n",
            " |  \n",
            " |  Can perform online updates to model parameters via :meth:`partial_fit`.\n",
            " |  For details on algorithm used to update feature means and variance online,\n",
            " |  see Stanford CS tech report STAN-CS-79-773 by Chan, Golub, and LeVeque:\n",
            " |  \n",
            " |      http://i.stanford.edu/pub/cstr/reports/cs/tr/79/773/CS-TR-79-773.pdf\n",
            " |  \n",
            " |  Read more in the :ref:`User Guide <gaussian_naive_bayes>`.\n",
            " |  \n",
            " |  Parameters\n",
            " |  ----------\n",
            " |  priors : array-like, shape (n_classes,)\n",
            " |      Prior probabilities of the classes. If specified the priors are not\n",
            " |      adjusted according to the data.\n",
            " |  \n",
            " |  var_smoothing : float, optional (default=1e-9)\n",
            " |      Portion of the largest variance of all features that is added to\n",
            " |      variances for calculation stability.\n",
            " |  \n",
            " |  Attributes\n",
            " |  ----------\n",
            " |  class_count_ : array, shape (n_classes,)\n",
            " |      number of training samples observed in each class.\n",
            " |  \n",
            " |  class_prior_ : array, shape (n_classes,)\n",
            " |      probability of each class.\n",
            " |  \n",
            " |  classes_ : array, shape (n_classes,)\n",
            " |      class labels known to the classifier\n",
            " |  \n",
            " |  epsilon_ : float\n",
            " |      absolute additive value to variances\n",
            " |  \n",
            " |  sigma_ : array, shape (n_classes, n_features)\n",
            " |      variance of each feature per class\n",
            " |  \n",
            " |  theta_ : array, shape (n_classes, n_features)\n",
            " |      mean of each feature per class\n",
            " |  \n",
            " |  Examples\n",
            " |  --------\n",
            " |  >>> import numpy as np\n",
            " |  >>> X = np.array([[-1, -1], [-2, -1], [-3, -2], [1, 1], [2, 1], [3, 2]])\n",
            " |  >>> Y = np.array([1, 1, 1, 2, 2, 2])\n",
            " |  >>> from sklearn.naive_bayes import GaussianNB\n",
            " |  >>> clf = GaussianNB()\n",
            " |  >>> clf.fit(X, Y)\n",
            " |  GaussianNB()\n",
            " |  >>> print(clf.predict([[-0.8, -1]]))\n",
            " |  [1]\n",
            " |  >>> clf_pf = GaussianNB()\n",
            " |  >>> clf_pf.partial_fit(X, Y, np.unique(Y))\n",
            " |  GaussianNB()\n",
            " |  >>> print(clf_pf.predict([[-0.8, -1]]))\n",
            " |  [1]\n",
            " |  \n",
            " |  Method resolution order:\n",
            " |      GaussianNB\n",
            " |      _BaseNB\n",
            " |      sklearn.base.ClassifierMixin\n",
            " |      sklearn.base.BaseEstimator\n",
            " |      builtins.object\n",
            " |  \n",
            " |  Methods defined here:\n",
            " |  \n",
            " |  __init__(self, priors=None, var_smoothing=1e-09)\n",
            " |      Initialize self.  See help(type(self)) for accurate signature.\n",
            " |  \n",
            " |  fit(self, X, y, sample_weight=None)\n",
            " |      Fit Gaussian Naive Bayes according to X, y\n",
            " |      \n",
            " |      Parameters\n",
            " |      ----------\n",
            " |      X : array-like, shape (n_samples, n_features)\n",
            " |          Training vectors, where n_samples is the number of samples\n",
            " |          and n_features is the number of features.\n",
            " |      \n",
            " |      y : array-like, shape (n_samples,)\n",
            " |          Target values.\n",
            " |      \n",
            " |      sample_weight : array-like, shape (n_samples,), optional (default=None)\n",
            " |          Weights applied to individual samples (1. for unweighted).\n",
            " |      \n",
            " |          .. versionadded:: 0.17\n",
            " |             Gaussian Naive Bayes supports fitting with *sample_weight*.\n",
            " |      \n",
            " |      Returns\n",
            " |      -------\n",
            " |      self : object\n",
            " |  \n",
            " |  partial_fit(self, X, y, classes=None, sample_weight=None)\n",
            " |      Incremental fit on a batch of samples.\n",
            " |      \n",
            " |      This method is expected to be called several times consecutively\n",
            " |      on different chunks of a dataset so as to implement out-of-core\n",
            " |      or online learning.\n",
            " |      \n",
            " |      This is especially useful when the whole dataset is too big to fit in\n",
            " |      memory at once.\n",
            " |      \n",
            " |      This method has some performance and numerical stability overhead,\n",
            " |      hence it is better to call partial_fit on chunks of data that are\n",
            " |      as large as possible (as long as fitting in the memory budget) to\n",
            " |      hide the overhead.\n",
            " |      \n",
            " |      Parameters\n",
            " |      ----------\n",
            " |      X : array-like, shape (n_samples, n_features)\n",
            " |          Training vectors, where n_samples is the number of samples and\n",
            " |          n_features is the number of features.\n",
            " |      \n",
            " |      y : array-like, shape (n_samples,)\n",
            " |          Target values.\n",
            " |      \n",
            " |      classes : array-like, shape (n_classes,), optional (default=None)\n",
            " |          List of all the classes that can possibly appear in the y vector.\n",
            " |      \n",
            " |          Must be provided at the first call to partial_fit, can be omitted\n",
            " |          in subsequent calls.\n",
            " |      \n",
            " |      sample_weight : array-like, shape (n_samples,), optional (default=None)\n",
            " |          Weights applied to individual samples (1. for unweighted).\n",
            " |      \n",
            " |          .. versionadded:: 0.17\n",
            " |      \n",
            " |      Returns\n",
            " |      -------\n",
            " |      self : object\n",
            " |  \n",
            " |  ----------------------------------------------------------------------\n",
            " |  Data and other attributes defined here:\n",
            " |  \n",
            " |  __abstractmethods__ = frozenset()\n",
            " |  \n",
            " |  ----------------------------------------------------------------------\n",
            " |  Methods inherited from _BaseNB:\n",
            " |  \n",
            " |  predict(self, X)\n",
            " |      Perform classification on an array of test vectors X.\n",
            " |      \n",
            " |      Parameters\n",
            " |      ----------\n",
            " |      X : array-like of shape (n_samples, n_features)\n",
            " |      \n",
            " |      Returns\n",
            " |      -------\n",
            " |      C : ndarray of shape (n_samples,)\n",
            " |          Predicted target values for X\n",
            " |  \n",
            " |  predict_log_proba(self, X)\n",
            " |      Return log-probability estimates for the test vector X.\n",
            " |      \n",
            " |      Parameters\n",
            " |      ----------\n",
            " |      X : array-like of shape (n_samples, n_features)\n",
            " |      \n",
            " |      Returns\n",
            " |      -------\n",
            " |      C : array-like of shape (n_samples, n_classes)\n",
            " |          Returns the log-probability of the samples for each class in\n",
            " |          the model. The columns correspond to the classes in sorted\n",
            " |          order, as they appear in the attribute :term:`classes_`.\n",
            " |  \n",
            " |  predict_proba(self, X)\n",
            " |      Return probability estimates for the test vector X.\n",
            " |      \n",
            " |      Parameters\n",
            " |      ----------\n",
            " |      X : array-like of shape (n_samples, n_features)\n",
            " |      \n",
            " |      Returns\n",
            " |      -------\n",
            " |      C : array-like of shape (n_samples, n_classes)\n",
            " |          Returns the probability of the samples for each class in\n",
            " |          the model. The columns correspond to the classes in sorted\n",
            " |          order, as they appear in the attribute :term:`classes_`.\n",
            " |  \n",
            " |  ----------------------------------------------------------------------\n",
            " |  Methods inherited from sklearn.base.ClassifierMixin:\n",
            " |  \n",
            " |  score(self, X, y, sample_weight=None)\n",
            " |      Return the mean accuracy on the given test data and labels.\n",
            " |      \n",
            " |      In multi-label classification, this is the subset accuracy\n",
            " |      which is a harsh metric since you require for each sample that\n",
            " |      each label set be correctly predicted.\n",
            " |      \n",
            " |      Parameters\n",
            " |      ----------\n",
            " |      X : array-like of shape (n_samples, n_features)\n",
            " |          Test samples.\n",
            " |      \n",
            " |      y : array-like of shape (n_samples,) or (n_samples, n_outputs)\n",
            " |          True labels for X.\n",
            " |      \n",
            " |      sample_weight : array-like of shape (n_samples,), default=None\n",
            " |          Sample weights.\n",
            " |      \n",
            " |      Returns\n",
            " |      -------\n",
            " |      score : float\n",
            " |          Mean accuracy of self.predict(X) wrt. y.\n",
            " |  \n",
            " |  ----------------------------------------------------------------------\n",
            " |  Data descriptors inherited from sklearn.base.ClassifierMixin:\n",
            " |  \n",
            " |  __dict__\n",
            " |      dictionary for instance variables (if defined)\n",
            " |  \n",
            " |  __weakref__\n",
            " |      list of weak references to the object (if defined)\n",
            " |  \n",
            " |  ----------------------------------------------------------------------\n",
            " |  Methods inherited from sklearn.base.BaseEstimator:\n",
            " |  \n",
            " |  __getstate__(self)\n",
            " |  \n",
            " |  __repr__(self, N_CHAR_MAX=700)\n",
            " |      Return repr(self).\n",
            " |  \n",
            " |  __setstate__(self, state)\n",
            " |  \n",
            " |  get_params(self, deep=True)\n",
            " |      Get parameters for this estimator.\n",
            " |      \n",
            " |      Parameters\n",
            " |      ----------\n",
            " |      deep : bool, default=True\n",
            " |          If True, will return the parameters for this estimator and\n",
            " |          contained subobjects that are estimators.\n",
            " |      \n",
            " |      Returns\n",
            " |      -------\n",
            " |      params : mapping of string to any\n",
            " |          Parameter names mapped to their values.\n",
            " |  \n",
            " |  set_params(self, **params)\n",
            " |      Set the parameters of this estimator.\n",
            " |      \n",
            " |      The method works on simple estimators as well as on nested objects\n",
            " |      (such as pipelines). The latter have parameters of the form\n",
            " |      ``<component>__<parameter>`` so that it's possible to update each\n",
            " |      component of a nested object.\n",
            " |      \n",
            " |      Parameters\n",
            " |      ----------\n",
            " |      **params : dict\n",
            " |          Estimator parameters.\n",
            " |      \n",
            " |      Returns\n",
            " |      -------\n",
            " |      self : object\n",
            " |          Estimator instance.\n",
            "\n"
          ],
          "name": "stdout"
        }
      ]
    },
    {
      "cell_type": "code",
      "metadata": {
        "id": "K628HeEkEuff",
        "colab_type": "code",
        "colab": {}
      },
      "source": [
        ""
      ],
      "execution_count": 0,
      "outputs": []
    }
  ]
}