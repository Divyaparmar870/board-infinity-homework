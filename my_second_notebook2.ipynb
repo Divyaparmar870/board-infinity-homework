{
  "nbformat": 4,
  "nbformat_minor": 0,
  "metadata": {
    "colab": {
      "name": "my second notebook2.ipynb",
      "provenance": [],
      "authorship_tag": "ABX9TyMytAx04Q5Di6s4eppPqnlU",
      "include_colab_link": true
    },
    "kernelspec": {
      "name": "python3",
      "display_name": "Python 3"
    },
    "accelerator": "GPU"
  },
  "cells": [
    {
      "cell_type": "markdown",
      "metadata": {
        "id": "view-in-github",
        "colab_type": "text"
      },
      "source": [
        "<a href=\"https://colab.research.google.com/github/Divyaparmar870/board-infinity-homework/blob/master/my_second_notebook2.ipynb\" target=\"_parent\"><img src=\"https://colab.research.google.com/assets/colab-badge.svg\" alt=\"Open In Colab\"/></a>"
      ]
    },
    {
      "cell_type": "markdown",
      "metadata": {
        "id": "86SiZ8Gx8tea",
        "colab_type": "text"
      },
      "source": [
        "## Short introduction about myself "
      ]
    },
    {
      "cell_type": "markdown",
      "metadata": {
        "colab_type": "text",
        "id": "nRz2vkiecF0R"
      },
      "source": [
        "my name is divya parmar,\n",
        "Currently i am studying in padmabhushan vasantdada patil pratishthan college of enginnering in information technology department,\n",
        "i have completed my diploma in computer enginnering,\n",
        "i am 20 years old , "
      ]
    },
    {
      "cell_type": "markdown",
      "metadata": {
        "id": "t5EpMtov87FW",
        "colab_type": "text"
      },
      "source": [
        "#Why i want to join data science"
      ]
    },
    {
      "cell_type": "markdown",
      "metadata": {
        "id": "qcycdQIlcasa",
        "colab_type": "text"
      },
      "source": [
        "The reason why i want to become data scientist is that,i have always been attractive toward technical field.\n",
        "data scientist has huge job opportunity along with  attractive financial package.it will give me skills and knowledge with rapid growth in my carrier ."
      ]
    },
    {
      "cell_type": "markdown",
      "metadata": {
        "id": "9eOUZWbw9hD9",
        "colab_type": "text"
      },
      "source": [
        "# 3 string variable of firstname,last name and cityname"
      ]
    },
    {
      "cell_type": "markdown",
      "metadata": {
        "id": "PXQg8Vm-cViM",
        "colab_type": "text"
      },
      "source": [
        ""
      ]
    },
    {
      "cell_type": "code",
      "metadata": {
        "id": "wcIth9m4foNo",
        "colab_type": "code",
        "colab": {}
      },
      "source": [
        "name='divya'\n"
      ],
      "execution_count": 0,
      "outputs": []
    },
    {
      "cell_type": "code",
      "metadata": {
        "id": "FYPrQyYJgnDS",
        "colab_type": "code",
        "colab": {
          "base_uri": "https://localhost:8080/",
          "height": 34
        },
        "outputId": "ba110cd6-e028-4faa-dca3-63d91c20ccb0"
      },
      "source": [
        "name"
      ],
      "execution_count": 76,
      "outputs": [
        {
          "output_type": "execute_result",
          "data": {
            "text/plain": [
              "'divya'"
            ]
          },
          "metadata": {
            "tags": []
          },
          "execution_count": 76
        }
      ]
    },
    {
      "cell_type": "code",
      "metadata": {
        "id": "M3q9aVSmgoyt",
        "colab_type": "code",
        "colab": {}
      },
      "source": [
        "lastname='parmar'"
      ],
      "execution_count": 0,
      "outputs": []
    },
    {
      "cell_type": "code",
      "metadata": {
        "id": "tNKWsGn0gsP1",
        "colab_type": "code",
        "colab": {
          "base_uri": "https://localhost:8080/",
          "height": 34
        },
        "outputId": "e51a2b74-ff9a-4298-8156-81cac8ee01fa"
      },
      "source": [
        "lastname"
      ],
      "execution_count": 12,
      "outputs": [
        {
          "output_type": "execute_result",
          "data": {
            "text/plain": [
              "'parmar'"
            ]
          },
          "metadata": {
            "tags": []
          },
          "execution_count": 12
        }
      ]
    },
    {
      "cell_type": "code",
      "metadata": {
        "id": "0fC-RHEfgtk8",
        "colab_type": "code",
        "colab": {}
      },
      "source": [
        "cityname=\"mumbai\""
      ],
      "execution_count": 0,
      "outputs": []
    },
    {
      "cell_type": "code",
      "metadata": {
        "id": "zk4rHlEZgwpK",
        "colab_type": "code",
        "colab": {
          "base_uri": "https://localhost:8080/",
          "height": 34
        },
        "outputId": "6f746873-c40f-419a-b1d5-039167598b8a"
      },
      "source": [
        "cityname"
      ],
      "execution_count": 15,
      "outputs": [
        {
          "output_type": "execute_result",
          "data": {
            "text/plain": [
              "'mumbai'"
            ]
          },
          "metadata": {
            "tags": []
          },
          "execution_count": 15
        }
      ]
    },
    {
      "cell_type": "markdown",
      "metadata": {
        "id": "YsCcSA3K9urJ",
        "colab_type": "text"
      },
      "source": [
        "## 2 integer values of height and age "
      ]
    },
    {
      "cell_type": "code",
      "metadata": {
        "id": "xofCsj_Cg2Qf",
        "colab_type": "code",
        "colab": {}
      },
      "source": [
        "height=5.6"
      ],
      "execution_count": 0,
      "outputs": []
    },
    {
      "cell_type": "code",
      "metadata": {
        "id": "WMLAALpXhE43",
        "colab_type": "code",
        "colab": {
          "base_uri": "https://localhost:8080/",
          "height": 34
        },
        "outputId": "67ca9595-959b-4cf1-9318-ce010462d935"
      },
      "source": [
        "height"
      ],
      "execution_count": 17,
      "outputs": [
        {
          "output_type": "execute_result",
          "data": {
            "text/plain": [
              "5.6"
            ]
          },
          "metadata": {
            "tags": []
          },
          "execution_count": 17
        }
      ]
    },
    {
      "cell_type": "code",
      "metadata": {
        "id": "oB1zRMM6hGAt",
        "colab_type": "code",
        "colab": {}
      },
      "source": [
        "age=20"
      ],
      "execution_count": 0,
      "outputs": []
    },
    {
      "cell_type": "code",
      "metadata": {
        "id": "UZbNQ3MxhHpV",
        "colab_type": "code",
        "colab": {
          "base_uri": "https://localhost:8080/",
          "height": 34
        },
        "outputId": "f4d2e214-d899-4eaa-d42c-d558ea4c1259"
      },
      "source": [
        "age"
      ],
      "execution_count": 19,
      "outputs": [
        {
          "output_type": "execute_result",
          "data": {
            "text/plain": [
              "20"
            ]
          },
          "metadata": {
            "tags": []
          },
          "execution_count": 19
        }
      ]
    },
    {
      "cell_type": "markdown",
      "metadata": {
        "id": "27JnIw1g99B-",
        "colab_type": "text"
      },
      "source": [
        "## 2 float values of ssc and diploma "
      ]
    },
    {
      "cell_type": "code",
      "metadata": {
        "id": "SHRS-OOGhIsu",
        "colab_type": "code",
        "colab": {}
      },
      "source": [
        "ssc=69.00"
      ],
      "execution_count": 0,
      "outputs": []
    },
    {
      "cell_type": "code",
      "metadata": {
        "id": "Hi0fzSXUhVNl",
        "colab_type": "code",
        "colab": {
          "base_uri": "https://localhost:8080/",
          "height": 34
        },
        "outputId": "b9fdfc06-9f7e-4816-9896-b24528719b6f"
      },
      "source": [
        "ssc"
      ],
      "execution_count": 21,
      "outputs": [
        {
          "output_type": "execute_result",
          "data": {
            "text/plain": [
              "69.0"
            ]
          },
          "metadata": {
            "tags": []
          },
          "execution_count": 21
        }
      ]
    },
    {
      "cell_type": "code",
      "metadata": {
        "id": "6kYyJtCZhWdK",
        "colab_type": "code",
        "colab": {}
      },
      "source": [
        "diploma=70.99"
      ],
      "execution_count": 0,
      "outputs": []
    },
    {
      "cell_type": "code",
      "metadata": {
        "id": "mJS50TIshY-0",
        "colab_type": "code",
        "colab": {
          "base_uri": "https://localhost:8080/",
          "height": 34
        },
        "outputId": "7052188d-b492-4d22-8673-1f1abdece933"
      },
      "source": [
        "diploma"
      ],
      "execution_count": 23,
      "outputs": [
        {
          "output_type": "execute_result",
          "data": {
            "text/plain": [
              "70.99"
            ]
          },
          "metadata": {
            "tags": []
          },
          "execution_count": 23
        }
      ]
    },
    {
      "cell_type": "markdown",
      "metadata": {
        "id": "gJZIOyRs-KYt",
        "colab_type": "text"
      },
      "source": [
        "## list containing 5 of favourite numbers in \"favourite_number\" of type integer and float"
      ]
    },
    {
      "cell_type": "code",
      "metadata": {
        "id": "9ZYV_uUehqzr",
        "colab_type": "code",
        "colab": {}
      },
      "source": [
        "favourite_numbers=[89,99,78,56,99.99]"
      ],
      "execution_count": 0,
      "outputs": []
    },
    {
      "cell_type": "code",
      "metadata": {
        "id": "bIWFdq84ioFY",
        "colab_type": "code",
        "colab": {
          "base_uri": "https://localhost:8080/",
          "height": 34
        },
        "outputId": "9f3aeb76-27f9-4e19-de66-c3f9eb6df6b0"
      },
      "source": [
        "len(favourite_members)"
      ],
      "execution_count": 33,
      "outputs": [
        {
          "output_type": "execute_result",
          "data": {
            "text/plain": [
              "5"
            ]
          },
          "metadata": {
            "tags": []
          },
          "execution_count": 33
        }
      ]
    },
    {
      "cell_type": "markdown",
      "metadata": {
        "id": "l8FOkyR0-6AT",
        "colab_type": "text"
      },
      "source": [
        "## list containing name of 5 friends name in \"myfriends\""
      ]
    },
    {
      "cell_type": "code",
      "metadata": {
        "id": "tzcmvM3jiq-k",
        "colab_type": "code",
        "colab": {}
      },
      "source": [
        "myfriends=['A','B','C','D','E']"
      ],
      "execution_count": 0,
      "outputs": []
    },
    {
      "cell_type": "code",
      "metadata": {
        "id": "bKg8XaRMjEKB",
        "colab_type": "code",
        "colab": {
          "base_uri": "https://localhost:8080/",
          "height": 34
        },
        "outputId": "81e5a500-c595-4625-f332-ee03bd7d1c59"
      },
      "source": [
        "myfriends"
      ],
      "execution_count": 31,
      "outputs": [
        {
          "output_type": "execute_result",
          "data": {
            "text/plain": [
              "['A', 'B', 'C', 'D', 'E']"
            ]
          },
          "metadata": {
            "tags": []
          },
          "execution_count": 31
        }
      ]
    },
    {
      "cell_type": "markdown",
      "metadata": {
        "id": "-UTPRvlI_IZK",
        "colab_type": "text"
      },
      "source": [
        "## print out name of first friend from list \"myfriends\""
      ]
    },
    {
      "cell_type": "code",
      "metadata": {
        "id": "ppp50_NWj5so",
        "colab_type": "code",
        "colab": {
          "base_uri": "https://localhost:8080/",
          "height": 34
        },
        "outputId": "d601783c-34d3-4012-edcd-89f8fb1f96d3"
      },
      "source": [
        "myfriends[0]"
      ],
      "execution_count": 37,
      "outputs": [
        {
          "output_type": "execute_result",
          "data": {
            "text/plain": [
              "'A'"
            ]
          },
          "metadata": {
            "tags": []
          },
          "execution_count": 37
        }
      ]
    },
    {
      "cell_type": "markdown",
      "metadata": {
        "id": "lAUhLfQr_wfv",
        "colab_type": "text"
      },
      "source": [
        "## print out favourite number from the list "
      ]
    },
    {
      "cell_type": "code",
      "metadata": {
        "id": "k1rISSCdkF7O",
        "colab_type": "code",
        "colab": {
          "base_uri": "https://localhost:8080/",
          "height": 34
        },
        "outputId": "8956c2a4-2379-48ad-d7b4-4aecd0ac6e97"
      },
      "source": [
        "favourite_numbers[2]"
      ],
      "execution_count": 40,
      "outputs": [
        {
          "output_type": "execute_result",
          "data": {
            "text/plain": [
              "78"
            ]
          },
          "metadata": {
            "tags": []
          },
          "execution_count": 40
        }
      ]
    },
    {
      "cell_type": "markdown",
      "metadata": {
        "id": "osEGdISk_73Y",
        "colab_type": "text"
      },
      "source": [
        "## make a dictionary \"myself\""
      ]
    },
    {
      "cell_type": "code",
      "metadata": {
        "id": "xuIVEMaykOmU",
        "colab_type": "code",
        "colab": {}
      },
      "source": [
        "myself={'date of birth':'5oct 1998','favourite color':\"black\",\"age\":20,\"gender\":\"female\",\"name\":\"divya\",\"favourite song\":\"yummy\"}"
      ],
      "execution_count": 0,
      "outputs": []
    },
    {
      "cell_type": "code",
      "metadata": {
        "id": "HkbNYvCYmtrk",
        "colab_type": "code",
        "colab": {
          "base_uri": "https://localhost:8080/",
          "height": 118
        },
        "outputId": "8b565dec-e165-4f73-eae7-ccfc8ba223a9"
      },
      "source": [
        "myself"
      ],
      "execution_count": 94,
      "outputs": [
        {
          "output_type": "execute_result",
          "data": {
            "text/plain": [
              "[{'age': 20,\n",
              "  'date of birth': '5oct 1998',\n",
              "  'favourite color': 'black',\n",
              "  'favourite song': 'yummy',\n",
              "  'gender': 'female',\n",
              "  'name': 'divya'}]"
            ]
          },
          "metadata": {
            "tags": []
          },
          "execution_count": 94
        }
      ]
    },
    {
      "cell_type": "code",
      "metadata": {
        "id": "sYkwtiO6m3sq",
        "colab_type": "code",
        "colab": {
          "base_uri": "https://localhost:8080/",
          "height": 34
        },
        "outputId": "f9d7af25-591b-4488-8e3d-d9a7dcd22996"
      },
      "source": [
        "myself.keys()"
      ],
      "execution_count": 52,
      "outputs": [
        {
          "output_type": "execute_result",
          "data": {
            "text/plain": [
              "dict_keys(['date of birth', 'favourite color', 'age', 'gender', 'name', 'favourite song'])"
            ]
          },
          "metadata": {
            "tags": []
          },
          "execution_count": 52
        }
      ]
    },
    {
      "cell_type": "code",
      "metadata": {
        "id": "Aq6uX8jynCZQ",
        "colab_type": "code",
        "colab": {
          "base_uri": "https://localhost:8080/",
          "height": 34
        },
        "outputId": "3c51c679-24e2-4f71-fbe4-ef6139374f1d"
      },
      "source": [
        "myself.values()"
      ],
      "execution_count": 54,
      "outputs": [
        {
          "output_type": "execute_result",
          "data": {
            "text/plain": [
              "dict_values(['5oct 1998', 'black', 20, 'female', 'divya', 'yummy'])"
            ]
          },
          "metadata": {
            "tags": []
          },
          "execution_count": 54
        }
      ]
    },
    {
      "cell_type": "markdown",
      "metadata": {
        "id": "RAzTcHHTAH2M",
        "colab_type": "text"
      },
      "source": [
        "## print name and gender from dictionary "
      ]
    },
    {
      "cell_type": "code",
      "metadata": {
        "id": "H7oE6W_Kn16k",
        "colab_type": "code",
        "colab": {
          "base_uri": "https://localhost:8080/",
          "height": 34
        },
        "outputId": "db0eea3d-373f-4200-baf2-6e5bedccd557"
      },
      "source": [
        "myself[\"name\"]"
      ],
      "execution_count": 65,
      "outputs": [
        {
          "output_type": "execute_result",
          "data": {
            "text/plain": [
              "'divya'"
            ]
          },
          "metadata": {
            "tags": []
          },
          "execution_count": 65
        }
      ]
    },
    {
      "cell_type": "code",
      "metadata": {
        "id": "beZbj5W6oerl",
        "colab_type": "code",
        "colab": {
          "base_uri": "https://localhost:8080/",
          "height": 34
        },
        "outputId": "1b1d41fa-86b5-4e3a-9896-f8346d70454e"
      },
      "source": [
        "myself['gender']"
      ],
      "execution_count": 56,
      "outputs": [
        {
          "output_type": "execute_result",
          "data": {
            "text/plain": [
              "'female'"
            ]
          },
          "metadata": {
            "tags": []
          },
          "execution_count": 56
        }
      ]
    },
    {
      "cell_type": "markdown",
      "metadata": {
        "id": "JkiOZQJy8eoo",
        "colab_type": "text"
      },
      "source": [
        "## adding vegetarian as false  in dictionary"
      ]
    },
    {
      "cell_type": "code",
      "metadata": {
        "id": "HPNQTB6DyDuU",
        "colab_type": "code",
        "colab": {}
      },
      "source": [
        "myself['vegetarian']=['False']"
      ],
      "execution_count": 0,
      "outputs": []
    },
    {
      "cell_type": "code",
      "metadata": {
        "id": "E5ZObhzM23BL",
        "colab_type": "code",
        "colab": {
          "base_uri": "https://localhost:8080/",
          "height": 134
        },
        "outputId": "1a5df9b9-a80e-43d5-8117-17b2edd11224"
      },
      "source": [
        "myself"
      ],
      "execution_count": 117,
      "outputs": [
        {
          "output_type": "execute_result",
          "data": {
            "text/plain": [
              "{'age': 20,\n",
              " 'date of birth': '5oct 1998',\n",
              " 'favourite color': 'black',\n",
              " 'favourite song': 'yummy',\n",
              " 'gender': 'female',\n",
              " 'name': 'divya',\n",
              " 'vegetarian': ['False']}"
            ]
          },
          "metadata": {
            "tags": []
          },
          "execution_count": 117
        }
      ]
    },
    {
      "cell_type": "code",
      "metadata": {
        "id": "PQ12-TIS261I",
        "colab_type": "code",
        "colab": {}
      },
      "source": [
        ""
      ],
      "execution_count": 0,
      "outputs": []
    }
  ]
}